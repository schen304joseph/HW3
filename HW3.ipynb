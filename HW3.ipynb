{
  "nbformat": 4,
  "nbformat_minor": 0,
  "metadata": {
    "colab": {
      "name": "HW3.ipynb",
      "provenance": [],
      "authorship_tag": "ABX9TyO/rTw5L5FU33OMo1jQJAKC",
      "include_colab_link": true
    },
    "kernelspec": {
      "name": "python3",
      "display_name": "Python 3"
    },
    "language_info": {
      "name": "python"
    }
  },
  "cells": [
    {
      "cell_type": "markdown",
      "metadata": {
        "id": "view-in-github",
        "colab_type": "text"
      },
      "source": [
        "<a href=\"https://colab.research.google.com/github/schen304joseph/HW3/blob/main/HW3.ipynb\" target=\"_parent\"><img src=\"https://colab.research.google.com/assets/colab-badge.svg\" alt=\"Open In Colab\"/></a>"
      ]
    },
    {
      "cell_type": "code",
      "metadata": {
        "colab": {
          "base_uri": "https://localhost:8080/",
          "height": 572
        },
        "id": "PjnQA30t--oM",
        "outputId": "fd964890-8dfb-47e7-a036-eb25262f4795"
      },
      "source": [
        "import pandas as pd\n",
        "import numpy as np\n",
        "import matplotlib.pyplot as plt\n",
        "from scipy.optimize import curve_fit\n",
        "\n",
        "x1 = np.arange(start=0, stop=1.1, step=0.1)\n",
        "p = np.array([28.1,34.4,36.7,36.9,36.8,36.7,36.5,35.4,32.9,27.7,17.5])\n",
        "\n",
        "def psat (a1,a2,a3):\n",
        "  return 10**(a1-(a2/(20+a3)))\n",
        "\n",
        "def pval (x1,A12,A21):\n",
        "  x2 = 1-x1\n",
        "  return x1*np.exp(A12*((A21*x2)/(A12*x1+A21*x2))**2)*psat(8.07131,1730.63,233.426)+x2*np.exp(A21*((A12*x1)/(A12*x1+A21*x2))**2)*psat(7.43155,1554.679,240.337)\n",
        "\n",
        "c, cov = curve_fit(pval,x1,p)\n",
        "\n",
        "n = len(x1)\n",
        "y=np.empty(n)\n",
        "for i in range(n):\n",
        "  y[i]=pval(x1[i],c[0],c[1])\n",
        "\n",
        "plt.scatter(x1,p,color=\"green\",label=\"data set\",linewidth=2)\n",
        "plt.plot(x1,y,color=\"red\",label=\"perdiction\",linewidth=2)\n",
        "plt.legend()\n",
        "print(\"A12=\",c[0])\n",
        "print(\"A21=\",c[1])"
      ],
      "execution_count": 23,
      "outputs": [
        {
          "output_type": "stream",
          "name": "stdout",
          "text": [
            "A12= 1.95841966952408\n",
            "A21= 1.6891850023576693\n"
          ]
        },
        {
          "output_type": "display_data",
          "data": {
            "image/png": "[encoded data removed]",
            "text/plain": [
              "<Figure size 864x648 with 1 Axes>"
            ]
          },
          "metadata": {
            "needs_background": "light"
          }
        }
      ]
    },
    {
      "cell_type": "code",
      "metadata": {
        "colab": {
          "base_uri": "https://localhost:8080/"
        },
        "id": "3ji6BtsEu4Lt",
        "outputId": "ba69596c-4b82-4536-f2a9-40af07e9ec8e"
      },
      "source": [
        "from botorch.models.gpytorch import GPyTorchModel\n",
        "from gpytorch.distributions import MultivariateNormal\n",
        "from gpytorch.means import ConstantMean\n",
        "from gpytorch.models import ExactGP\n",
        "from gpytorch.kernels import RBFKernel, ScaleKernel\n",
        "from gpytorch.likelihoods import GaussianLikelihood\n",
        "from gpytorch.mlls import ExactMarginalLogLikelihood\n",
        "from gpytorch.priors import GammaPrior\n",
        "\n",
        "\n",
        "class SimpleCustomGP(ExactGP, GPyTorchModel):\n",
        "\n",
        "    _num_outputs = 1  # to inform GPyTorchModel API\n",
        "    \n",
        "    def __init__(self, train_X, train_Y):\n",
        "        # squeeze output dim before passing train_Y to ExactGP\n",
        "        super().__init__(train_X, train_Y.squeeze(-1), GaussianLikelihood())\n",
        "        self.mean_module = ConstantMean()\n",
        "        self.covar_module = ScaleKernel(\n",
        "            base_kernel=RBFKernel(ard_num_dims=train_X.shape[-1]),\n",
        "        )\n",
        "        self.to(train_X)  # make sure we're on the right device/dtype\n",
        "        \n",
        "    def forward(self, x):\n",
        "        mean_x = self.mean_module(x)\n",
        "        covar_x = self.covar_module(x)\n",
        "        return MultivariateNormal(mean_x, covar_x)\n",
        "from botorch.fit import fit_gpytorch_model\n",
        "\n",
        "def _get_and_fit_simple_custom_gp(Xs, Ys, **kwargs):\n",
        "    model = SimpleCustomGP(Xs[0], Ys[0])\n",
        "    mll = ExactMarginalLogLikelihood(model.likelihood, model)\n",
        "    fit_gpytorch_model(mll)\n",
        "    return model\n",
        "\n",
        "import random\n",
        "import numpy as np\n",
        "\n",
        "def branin(parameterization, *args):\n",
        "    x1, x2 = parameterization[\"x1\"], parameterization[\"x2\"]\n",
        "    y = (x2 - 5.1 / (4 * np.pi ** 2) * x1 ** 2 + 5 * x1 / np.pi - 6) ** 2\n",
        "    y += 10 * (1 - 1 / (8 * np.pi)) * np.cos(x1) + 10\n",
        "    # let's add some synthetic observation noise\n",
        "    y += random.normalvariate(0, 0.1)\n",
        "    return {\"branin\": (y, 0.0)}\n",
        "\n",
        "from ax import ParameterType, RangeParameter, SearchSpace\n",
        "\n",
        "search_space = SearchSpace(\n",
        "    parameters=[\n",
        "        RangeParameter(\n",
        "            name=\"x1\", parameter_type=ParameterType.FLOAT, lower=-5, upper=10\n",
        "        ),\n",
        "        RangeParameter(\n",
        "            name=\"x2\", parameter_type=ParameterType.FLOAT, lower=0, upper=15\n",
        "        ),\n",
        "    ]\n",
        ")\n",
        "\n",
        "from ax import SimpleExperiment\n",
        "\n",
        "exp = SimpleExperiment(\n",
        "    name=\"test_branin\",\n",
        "    search_space=search_space,\n",
        "    evaluation_function=branin,\n",
        "    objective_name=\"branin\",\n",
        "    minimize=True,\n",
        ")\n",
        "\n",
        "from ax.modelbridge import get_sobol\n",
        "\n",
        "sobol = get_sobol(exp.search_space)\n",
        "exp.new_batch_trial(generator_run=sobol.gen(5))\n",
        "\n",
        "from ax.modelbridge.factory import get_botorch\n",
        "\n",
        "for i in range(5):\n",
        "    print(f\"Running optimization batch {i+1}/5...\")\n",
        "    model = get_botorch(\n",
        "        experiment=exp,\n",
        "        data=exp.eval(),\n",
        "        search_space=exp.search_space,\n",
        "        model_constructor=_get_and_fit_simple_custom_gp,)\n",
        "    batch = exp.new_trial(generator_run=model.gen(1))\n",
        "    \n",
        "print(\"Done!\")"
      ],
      "execution_count": 41,
      "outputs": [
        {
          "output_type": "stream",
          "name": "stdout",
          "text": [
            "Running optimization batch 1/5...\n",
            "Running optimization batch 2/5...\n",
            "Running optimization batch 3/5...\n",
            "Running optimization batch 4/5...\n",
            "Running optimization batch 5/5...\n",
            "Done!\n"
          ]
        }
      ]
    },
    {
      "cell_type": "code",
      "metadata": {
        "colab": {
          "base_uri": "https://localhost:8080/",
          "height": 303
        },
        "id": "taZ50zHHyx02",
        "outputId": "26c81f0d-989d-4296-daa7-9f2c287a807f"
      },
      "source": [
        "import matplotlib.gridspec as gridspec\n",
        "import matplotlib.pyplot as plt\n",
        "import torch\n",
        "import torch.autograd as autograd\n",
        "import torch.optim as optim\n",
        "from torch.distributions import constraints, transform_to\n",
        "\n",
        "import pyro\n",
        "import pyro.contrib.gp as gp\n",
        "\n",
        "assert pyro.__version__.startswith('1.7.0')\n",
        "pyro.set_rng_seed(1)\n",
        "\n",
        "def f(x):\n",
        "    return (6 * x - 2)**2 * torch.sin(12 * x - 4)\n",
        "\n",
        "x = torch.linspace(0, 1)\n",
        "plt.figure(figsize=(8, 4))\n",
        "plt.plot(x.numpy(), f(x).numpy())\n",
        "plt.show()\n",
        "\n",
        "X = torch.tensor([0.0, 0.33, 0.66, 1.0])\n",
        "y = f(X)\n",
        "gpmodel = gp.models.GPRegression(X, y, gp.kernels.Matern52(input_dim=1),noise=torch.tensor(0.1), jitter=1.0e-4)\n",
        "\n",
        "def update_posterior(x_new):\n",
        "    y = f(x_new) # evaluate f at new point.\n",
        "    X = torch.cat([gpmodel.X, x_new]) # incorporate new evaluation\n",
        "    y = torch.cat([gpmodel.y, y])\n",
        "    gpmodel.set_data(X, y)\n",
        "    # optimize the GP hyperparameters using Adam with lr=0.001\n",
        "    optimizer = torch.optim.Adam(gpmodel.parameters(), lr=0.001)\n",
        "    gp.util.train(gpmodel, optimizer)"
      ],
      "execution_count": 4,
      "outputs": [
        {
          "output_type": "stream",
          "name": "stderr",
          "text": [
            "/usr/local/lib/python3.7/dist-packages/ipykernel_launcher.py:17: UserWarning: Not providing a value for linspace's steps is deprecated and will throw a runtime error in a future release. This warning will appear only once per process. (Triggered internally at  /pytorch/aten/src/ATen/native/RangeFactories.cpp:25.)\n"
          ]
        },
        {
          "output_type": "display_data",
          "data": {
            "image/png": "[encoded data removed]",
            "text/plain": [
              "<Figure size 576x288 with 1 Axes>"
            ]
          },
          "metadata": {
            "needs_background": "light"
          }
        }
      ]
    }
  ]
}