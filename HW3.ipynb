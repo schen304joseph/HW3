{
  "nbformat": 4,
  "nbformat_minor": 0,
  "metadata": {
    "colab": {
      "name": "HW3.ipynb",
      "provenance": [],
      "authorship_tag": "ABX9TyPdsm4FB6LX0Dr0UwW7qZVK",
      "include_colab_link": true
    },
    "kernelspec": {
      "name": "python3",
      "display_name": "Python 3"
    },
    "language_info": {
      "name": "python"
    }
  },
  "cells": [
    {
      "cell_type": "markdown",
      "metadata": {
        "id": "view-in-github",
        "colab_type": "text"
      },
      "source": [
        "<a href=\"https://colab.research.google.com/github/schen304joseph/HW3/blob/main/HW3.ipynb\" target=\"_parent\"><img src=\"https://colab.research.google.com/assets/colab-badge.svg\" alt=\"Open In Colab\"/></a>"
      ]
    },
    {
      "cell_type": "code",
      "metadata": {
        "colab": {
          "base_uri": "https://localhost:8080/"
        },
        "id": "2R3yJ6dJRkrs",
        "outputId": "862321f3-6146-4272-8b73-9080c631231c"
      },
      "source": [
        "# A simple example of using PyTorch for gradient descent\n",
        "\n",
        "import torch as t\n",
        "from torch.autograd import Variable\n",
        "\n",
        "# Define a variable, make sure requires_grad=True so that PyTorch can take gradient with respect to this variable\n",
        "x = Variable(t.tensor([1.0, 0.0]), requires_grad=True)\n",
        "\n",
        "# Define a loss\n",
        "loss = (x[0] - 1)**2 + (x[1] - 2)**2\n",
        "\n",
        "# Take gradient\n",
        "loss.backward()\n",
        "\n",
        "# Check the gradient. numpy() turns the variable from a PyTorch tensor to a numpy array.\n",
        "x.grad.numpy()"
      ],
      "execution_count": 9,
      "outputs": [
        {
          "output_type": "execute_result",
          "data": {
            "text/plain": [
              "array([ 0., -4.], dtype=float32)"
            ]
          },
          "metadata": {},
          "execution_count": 9
        }
      ]
    },
    {
      "cell_type": "code",
      "metadata": {
        "colab": {
          "base_uri": "https://localhost:8080/",
          "height": 235
        },
        "id": "L2vnF8aNRz8g",
        "outputId": "294a8f4f-6f41-41a3-8c43-93cc2b358a6f"
      },
      "source": [
        "import torch as t\n",
        "from torch.autograd import Variable\n",
        "import math\n",
        "\n",
        "T=20\n",
        "def Psat(a1, a2, a3):\n",
        " return math.exp(a1-(a2/T+a3))\n",
        "\n",
        "A = Variable(t.tensor([1.0, 0.0]), requires_grad=True)\n",
        "#A21 = Variable(t.tensor([1.0, 0.0]), requires_grad=True)\n",
        "Psatwater = Psat(8.07131,1730.63,233.426)\n",
        "Psatdiox = Psat(7.43155,1554.679,240.337)\n",
        "#loss = x[0]*math.exp((A12*(A21*(1-x[0])))/A12*X[0]+A21*(1-x[0]))**2)*Psatwater+(1-x[0])*math.exp((A21/A12*X[0]+A21*(1-x[0]))**2)*Psatdiox\n",
        "loss = A[0]*math.exp(x[1])\n",
        "\n",
        "loss.backward()\n",
        "x.grad.numpy()\n"
      ],
      "execution_count": 5,
      "outputs": [
        {
          "output_type": "error",
          "ename": "NameError",
          "evalue": "ignored",
          "traceback": [
            "\u001b[0;31m---------------------------------------------------------------------------\u001b[0m",
            "\u001b[0;31mNameError\u001b[0m                                 Traceback (most recent call last)",
            "\u001b[0;32m<ipython-input-5-bb9d57066228>\u001b[0m in \u001b[0;36m<module>\u001b[0;34m()\u001b[0m\n\u001b[1;32m     12\u001b[0m \u001b[0mPsatdiox\u001b[0m \u001b[0;34m=\u001b[0m \u001b[0mPsat\u001b[0m\u001b[0;34m(\u001b[0m\u001b[0;36m7.43155\u001b[0m\u001b[0;34m,\u001b[0m\u001b[0;36m1554.679\u001b[0m\u001b[0;34m,\u001b[0m\u001b[0;36m240.337\u001b[0m\u001b[0;34m)\u001b[0m\u001b[0;34m\u001b[0m\u001b[0;34m\u001b[0m\u001b[0m\n\u001b[1;32m     13\u001b[0m \u001b[0;31m#loss = x[0]*math.exp((A12*(A21*(1-x[0])))/A12*X[0]+A21*(1-x[0]))**2)*Psatwater+(1-x[0])*math.exp((A21/A12*X[0]+A21*(1-x[0]))**2)*Psatdiox\u001b[0m\u001b[0;34m\u001b[0m\u001b[0;34m\u001b[0m\u001b[0;34m\u001b[0m\u001b[0m\n\u001b[0;32m---> 14\u001b[0;31m \u001b[0mloss\u001b[0m \u001b[0;34m=\u001b[0m \u001b[0mA\u001b[0m\u001b[0;34m[\u001b[0m\u001b[0;36m0\u001b[0m\u001b[0;34m]\u001b[0m\u001b[0;34m*\u001b[0m\u001b[0mmath\u001b[0m\u001b[0;34m.\u001b[0m\u001b[0mexp\u001b[0m\u001b[0;34m(\u001b[0m\u001b[0mx\u001b[0m\u001b[0;34m[\u001b[0m\u001b[0;36m1\u001b[0m\u001b[0;34m]\u001b[0m\u001b[0;34m)\u001b[0m\u001b[0;34m\u001b[0m\u001b[0;34m\u001b[0m\u001b[0m\n\u001b[0m\u001b[1;32m     15\u001b[0m \u001b[0;34m\u001b[0m\u001b[0m\n\u001b[1;32m     16\u001b[0m \u001b[0mloss\u001b[0m\u001b[0;34m.\u001b[0m\u001b[0mbackward\u001b[0m\u001b[0;34m(\u001b[0m\u001b[0;34m)\u001b[0m\u001b[0;34m\u001b[0m\u001b[0;34m\u001b[0m\u001b[0m\n",
            "\u001b[0;31mNameError\u001b[0m: name 'x' is not defined"
          ]
        }
      ]
    },
    {
      "cell_type": "code",
      "metadata": {
        "colab": {
          "base_uri": "https://localhost:8080/",
          "height": 583
        },
        "id": "txCEVe6J4PJI",
        "outputId": "6142b229-8492-4c9b-8af2-72bb7767720b"
      },
      "source": [
        "import pandas as pd\n",
        "import numpy as np\n",
        "import matplotlib.pyplot as plt\n",
        "from scipy.optimize import curve_fit\n",
        "plt.rcParams['figure.figsize'] = (12.0,9.0)\n",
        "x1 = np.arange(start=0, stop=1.1, step=0.1)\n",
        "x2 = 1-x1\n",
        "\n",
        "p = np.array([28.1,34.4,36.7,36.9,36.8,36.7,36.5,35.4,32.9,27.7,17.5])\n",
        "def psat (a1,a2,a3):\n",
        "  return int(10**(a1-a2/20+a3))\n",
        "def pval (x1,x2,A12,A21):\n",
        "  return x1*np.exp(A12*((A21*x2)/(A12*x1+A21*x2))**2)*psat(8.07131,1730.63,233.426)+x2*np.exp(A21*((A12*x1)/(A12*x1+A21*x2))**2)*psat(7.43155,1554.679,240.337)\n",
        "#def pval (x1,x2,A12,A21):\n",
        "  #return x1*np.exp(A12((A21*x2))\n",
        "Aguess = [0.1,0.1]\n",
        "plt.plot(x1,p)\n",
        "\n",
        "n=len(x1)\n",
        "y=np.empty(n)\n",
        "for i in range(n):\n",
        "  y[i]=pval(x1[i],x2[i],Aguess[0],Aguess[1])\n",
        "plt.plot(x1,y,'ro')\n",
        "print(len(x1))\n",
        "print(x2)"
      ],
      "execution_count": 33,
      "outputs": [
        {
          "output_type": "stream",
          "name": "stdout",
          "text": [
            "11\n",
            "[1.  0.9 0.8 0.7 0.6 0.5 0.4 0.3 0.2 0.1 0. ]\n"
          ]
        },
        {
          "output_type": "display_data",
          "data": {
            "image/png": "[encoded data removed]",
            "text/plain": [
              "<Figure size 864x648 with 1 Axes>"
            ]
          },
          "metadata": {
            "needs_background": "light"
          }
        }
      ]
    },
    {
      "cell_type": "code",
      "metadata": {
        "colab": {
          "base_uri": "https://localhost:8080/",
          "height": 131
        },
        "id": "PjnQA30t--oM",
        "outputId": "bfe89300-ade8-43f3-dc8b-3b655c628436"
      },
      "source": [
        "import pandas as pd\n",
        "import numpy as np\n",
        "import matplotlib.pyplot as plt\n",
        "from scipy.optimize import lsq_linear\n",
        "\n",
        "plt.rcParams['figure.figsize'] = (12.0,9.0)\n",
        "x1 = np.arange(start=0, stop=1.1, step=0.1)\n",
        "x2 = 1-x1\n",
        "p = np.array([28.1,34.4,36.7,36.9,36.8,36.7,36.5,35.4,32.9,27.7,17.5])\n",
        "\n",
        "def psat (a1,a2,a3):\n",
        "  return int(10**(a1-a2/20+a3))\n",
        "\n",
        "def pval (x1,x2,A12,A21):\n",
        "  return x1*np.exp(A12*((A21*x2)/(A12*x1+A21*x2))**2)*psat(8.07131,1730.63,233.426)+x2*np.exp(A21*((A12*x1)/(A12*x1+A21*x2))**2)*psat(7.43155,1554.679,240.337)\n",
        "\n",
        "Aguess = [0.1,0.1]\n",
        "plt.plot(x1,p)\n",
        "\n",
        "\n",
        "c,cov = lsq_linear(pval,x1,p,bounds=([-np.inf, 1.5])\n",
        "\n",
        "n = len(x1)\n",
        "y=np.empty(n)\n",
        "for i in range(n):\n",
        "  y[i]=pval(x1[i],x2[i],c[0],c[1])\n",
        "\n",
        "plt.plot(x1,y,'ro')\n"
      ],
      "execution_count": 45,
      "outputs": [
        {
          "output_type": "error",
          "ename": "SyntaxError",
          "evalue": "ignored",
          "traceback": [
            "\u001b[0;36m  File \u001b[0;32m\"<ipython-input-45-0361d8c4bd7c>\"\u001b[0;36m, line \u001b[0;32m23\u001b[0m\n\u001b[0;31m    n = len(x1)\u001b[0m\n\u001b[0m    ^\u001b[0m\n\u001b[0;31mSyntaxError\u001b[0m\u001b[0;31m:\u001b[0m invalid syntax\n"
          ]
        }
      ]
    },
    {
      "cell_type": "code",
      "metadata": {
        "colab": {
          "base_uri": "https://localhost:8080/"
        },
        "id": "jJ1tt32qIxqY",
        "outputId": "e89bf126-a863-4c51-dbe5-b7df4f77c74f"
      },
      "source": [
        "x1 = np.arange(start=0, stop=1.1, step=0.1)\n",
        "x2 = 1-x1\n",
        "Aguess = [10,11]\n",
        "Aguess[0]"
      ],
      "execution_count": 45,
      "outputs": [
        {
          "output_type": "execute_result",
          "data": {
            "text/plain": [
              "10"
            ]
          },
          "metadata": {},
          "execution_count": 45
        }
      ]
    },
    {
      "cell_type": "code",
      "metadata": {
        "id": "XuSnMcKvB4xA"
      },
      "source": [
        ""
      ],
      "execution_count": null,
      "outputs": []
    }
  ]
}